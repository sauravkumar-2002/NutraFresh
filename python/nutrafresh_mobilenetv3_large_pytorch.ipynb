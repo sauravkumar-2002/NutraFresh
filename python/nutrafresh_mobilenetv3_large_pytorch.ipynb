{
  "nbformat": 4,
  "nbformat_minor": 0,
  "metadata": {
    "colab": {
      "provenance": [],
      "gpuType": "T4",
      "collapsed_sections": [
        "Wg-M5kTVV5nL",
        "3GSj3H0rWZsN",
        "UoR8T87Bgq5M",
        "nSBo9F6u7MWW"
      ]
    },
    "kernelspec": {
      "name": "python3",
      "display_name": "Python 3"
    },
    "language_info": {
      "name": "python"
    },
    "accelerator": "GPU"
  },
  "cells": [
    {
      "cell_type": "markdown",
      "source": [
        "## 0. Importing Libraries"
      ],
      "metadata": {
        "id": "HHGJLa5aV9JU"
      }
    },
    {
      "cell_type": "code",
      "execution_count": null,
      "metadata": {
        "id": "nITYgVQmR9M5"
      },
      "outputs": [],
      "source": [
        "import numpy as np\n",
        "import pandas as pd\n",
        "import matplotlib.pyplot as plt\n",
        "\n",
        "import os\n",
        "import shutil\n",
        "import random\n",
        "\n",
        "import torch\n",
        "\n",
        "from torch.utils.data import DataLoader, random_split\n",
        "import torchvision.transforms as transforms\n",
        "from torchvision.datasets import ImageFolder\n",
        "from PIL import Image\n",
        "\n",
        "import torch.nn as nn\n",
        "import torch.optim as optim\n",
        "from torchvision.models import mobilenet_v3_small\n",
        "\n",
        "import pickle"
      ]
    },
    {
      "cell_type": "markdown",
      "source": [
        "## 1. Hyperparameters"
      ],
      "metadata": {
        "id": "isDKjQxkdjFN"
      }
    },
    {
      "cell_type": "code",
      "source": [
        "# Dataloaders\n",
        "batch_size=32\n",
        "num_workers=2\n",
        "\n",
        "# Model Architecture\n",
        "num_classes=16\n",
        "lr=0.003\n",
        "\n",
        "# Model Training\n",
        "num_epochs=10"
      ],
      "metadata": {
        "id": "F2y0NkNFdryS"
      },
      "execution_count": null,
      "outputs": []
    },
    {
      "cell_type": "markdown",
      "source": [
        "## 2. File Operations"
      ],
      "metadata": {
        "id": "Wg-M5kTVV5nL"
      }
    },
    {
      "cell_type": "code",
      "source": [
        "# All of the code has been implemented in the same cell to prevent duplication of directories\n",
        "\n",
        "if os.path.exists(\"/content/common_dataset\") and os.path.isdir(\"/content/common_dataset\"):\n",
        "    shutil.rmtree(\"/content/common_dataset\")\n",
        "\n",
        "if os.path.exists(\"/content/frames_lemon\") and os.path.isdir(\"/content/frames_lemon\"):\n",
        "    shutil.rmtree(\"/content/frames_lemon\")\n",
        "\n",
        "if os.path.exists(\"/content/frames_potato\") and os.path.isdir(\"/content/frames_potato\"):\n",
        "    shutil.rmtree(\"/content/frames_potato\")\n",
        "\n",
        "try:\n",
        "    os.remove(\"/content/frames_lemon_cropped.zip\")\n",
        "    os.remove(\"/content/frames_potato_cropped.zip\")\n",
        "except:\n",
        "    pass\n",
        "\n",
        "# common_dataset\n",
        "\n",
        "dirpath = \"/content/common_dataset\"\n",
        "os.mkdir(dirpath)\n",
        "os.mkdir(os.path.join(dirpath, \"test\"))\n",
        "os.mkdir(os.path.join(dirpath, \"train\"))\n",
        "for i in range(16):\n",
        "    folder_name = \"day_\" + str(i)\n",
        "    os.mkdir(os.path.join(dirpath, \"test\", folder_name))\n",
        "    os.mkdir(os.path.join(dirpath, \"train\", folder_name))\n",
        "\n",
        "\n",
        "#-----------------------------------------------------------------------------------------------------\n",
        "\n",
        "# Downloading files from Google Drive\n",
        "\n",
        "!gdown -q 1LDptivdf5VJCe9xa5gziUVN6hQoZ-3ZX # frames_lemon_cropped.zip\n",
        "!gdown -q 1hhL3UxNG2EnlnISFSbXof-uv_7PexWqK # frames_potato_cropped.zip\n",
        "\n",
        "!unzip -q /content/frames_lemon_cropped.zip -d /content/\n",
        "!unzip -q /content/frames_potato_cropped.zip -d /content/\n",
        "\n",
        "os.remove(\"/content/frames_lemon_cropped.zip\")\n",
        "os.remove(\"/content/frames_potato_cropped.zip\")\n",
        "\n",
        "#-----------------------------------------------------------------------------------------------------\n",
        "\n",
        "# Renaming files\n",
        "\n",
        "# frames_lemon\n",
        "\n",
        "parent_dir = \"/content/frames_lemon\"\n",
        "folder_list = os.listdir(parent_dir)\n",
        "\n",
        "for day in folder_list:\n",
        "    file_list = os.listdir(os.path.join(parent_dir, day))\n",
        "\n",
        "    for image_file in file_list:\n",
        "        old_file_name = os.path.join(parent_dir, day, image_file)\n",
        "        modification = str(day) + \"_\" + image_file\n",
        "        new_file_name = os.path.join(parent_dir, day, modification)\n",
        "        os.rename(old_file_name, new_file_name)\n",
        "\n",
        "# frames_potato\n",
        "\n",
        "parent_dir = \"/content/frames_potato\"\n",
        "folder_list = os.listdir(parent_dir)\n",
        "\n",
        "for day in folder_list:\n",
        "    file_list = os.listdir(os.path.join(parent_dir, day))\n",
        "\n",
        "    for image_file in file_list:\n",
        "        old_file_name = os.path.join(parent_dir, day, image_file)\n",
        "        modification = str(day) + \"_\" + image_file\n",
        "        new_file_name = os.path.join(parent_dir, day, modification)\n",
        "        os.rename(old_file_name, new_file_name)\n",
        "\n",
        "#-----------------------------------------------------------------------------------------------------\n",
        "\n",
        "# Splitting data into train and test\n",
        "\n",
        "tts_ratio = 0.8\n",
        "\n",
        "# # potato_dataset\n",
        "# parent_dir = \"/content/frames_potato\"\n",
        "# class_list = os.listdir(parent_dir)\n",
        "\n",
        "# for img_class in class_list:\n",
        "\n",
        "#     file_list = os.listdir(os.path.join(parent_dir, img_class))\n",
        "#     potato_random = random.sample(file_list, int(tts_ratio*len(file_list)))\n",
        "\n",
        "#     for img_file in potato_random:\n",
        "#         source_path = os.path.join(parent_dir, img_class, img_file)\n",
        "#         destination_path = os.path.join(\"/content/common_dataset\", \"train\", img_class)\n",
        "#         new_filename = \"potato_\" + img_file\n",
        "#         new_filename = os.path.join(parent_dir, img_class, new_filename)\n",
        "#         os.rename(source_path, new_filename)\n",
        "#         shutil.move(new_filename, destination_path)\n",
        "\n",
        "#     remaining_files = [x for x in file_list if x not in potato_random]\n",
        "\n",
        "#     for img_file in remaining_files:\n",
        "#         source_path = os.path.join(parent_dir, img_class, img_file)\n",
        "#         destination_path = os.path.join(\"/content/common_dataset\", \"test\", img_class)\n",
        "#         new_filename = \"potato_\" + img_file\n",
        "#         new_filename = os.path.join(parent_dir, img_class, new_filename)\n",
        "#         os.rename(source_path, new_filename)\n",
        "#         shutil.move(new_filename, destination_path)\n",
        "\n",
        "# lemon_dataset\n",
        "parent_dir = \"/content/frames_lemon\"\n",
        "class_list = os.listdir(parent_dir)\n",
        "\n",
        "for img_class in class_list:\n",
        "\n",
        "    file_list = os.listdir(os.path.join(parent_dir, img_class))\n",
        "    lemon_random = random.sample(file_list, int(tts_ratio*len(file_list)))\n",
        "\n",
        "    for img_file in lemon_random:\n",
        "        source_path = os.path.join(parent_dir, img_class, img_file)\n",
        "        destination_path = os.path.join(\"/content/common_dataset\", \"train\", img_class)\n",
        "        new_filename = \"lemon_\" + img_file\n",
        "        new_filename = os.path.join(parent_dir, img_class, new_filename)\n",
        "        os.rename(source_path, new_filename)\n",
        "        shutil.move(new_filename, destination_path)\n",
        "\n",
        "    remaining_files = [x for x in file_list if x not in lemon_random]\n",
        "\n",
        "    for img_file in remaining_files:\n",
        "        source_path = os.path.join(parent_dir, img_class, img_file)\n",
        "        destination_path = os.path.join(\"/content/common_dataset\", \"test\", img_class)\n",
        "        new_filename = \"lemon_\" + img_file\n",
        "        new_filename = os.path.join(parent_dir, img_class, new_filename)\n",
        "        os.rename(source_path, new_filename)\n",
        "        shutil.move(new_filename, destination_path)\n",
        "\n",
        "# Removing extracted zip files\n",
        "shutil.rmtree(\"/content/frames_lemon\")\n",
        "shutil.rmtree(\"/content/frames_potato\")"
      ],
      "metadata": {
        "id": "l70kZ1_WVKVk"
      },
      "execution_count": null,
      "outputs": []
    },
    {
      "cell_type": "markdown",
      "source": [
        "## 3. Augmenting and Splitting Data"
      ],
      "metadata": {
        "id": "3GSj3H0rWZsN"
      }
    },
    {
      "cell_type": "code",
      "source": [
        "transform = transforms.Compose([\n",
        "    transforms.RandomHorizontalFlip(),\n",
        "    transforms.RandomAffine(150),\n",
        "    transforms.RandomPerspective(),\n",
        "    transforms.GaussianBlur(kernel_size=5),\n",
        "    transforms.RandomResizedCrop((224, 224)),\n",
        "    transforms.ToTensor()\n",
        "])\n",
        "\n",
        "dataset = ImageFolder(root='/content/common_dataset', transform=transform)\n",
        "\n",
        "train_size = int(0.7*len(dataset))\n",
        "val_size = int(0.15*len(dataset))\n",
        "test_size = len(dataset) - train_size - val_size\n",
        "\n",
        "train_dataset, val_dataset, test_dataset = random_split(dataset, [train_size, val_size, test_size])"
      ],
      "metadata": {
        "id": "Gk_fbVzZVidM"
      },
      "execution_count": null,
      "outputs": []
    },
    {
      "cell_type": "code",
      "source": [
        "train_loader = DataLoader(train_dataset,\n",
        "                         batch_size=batch_size,\n",
        "                         shuffle=True,\n",
        "                         num_workers=num_workers,\n",
        "                         pin_memory=True,\n",
        "                         drop_last=True,\n",
        "                         )\n",
        "\n",
        "val_loader = DataLoader(val_dataset,\n",
        "                        batch_size=batch_size,\n",
        "                        shuffle=False,\n",
        "                        num_workers=num_workers,\n",
        "                        pin_memory=True,\n",
        "                        drop_last=True,\n",
        "                        )\n",
        "\n",
        "test_loader = DataLoader(test_dataset,\n",
        "                        batch_size=batch_size,\n",
        "                        shuffle=False,\n",
        "                        num_workers=num_workers,\n",
        "                        pin_memory=True,\n",
        "                        drop_last=True,\n",
        "                        )"
      ],
      "metadata": {
        "id": "qqLXx1E0c1jW"
      },
      "execution_count": null,
      "outputs": []
    },
    {
      "cell_type": "markdown",
      "source": [
        "## 4. Model Architecture"
      ],
      "metadata": {
        "id": "UoR8T87Bgq5M"
      }
    },
    {
      "cell_type": "code",
      "source": [
        "model = mobilenet_v3_small(pretrained=True)\n",
        "\n",
        "num_classes=num_classes\n",
        "model.classifier[-1] = nn.Linear(model.classifier[-1].in_features, num_classes)\n",
        "\n",
        "criterion = nn.CrossEntropyLoss()\n",
        "optimizer = optim.Adam(model.parameters(), lr=lr)"
      ],
      "metadata": {
        "colab": {
          "base_uri": "https://localhost:8080/"
        },
        "id": "sw3VMC58guDt",
        "outputId": "2125c2a9-0272-48c5-b96b-7ef2a0808bfd"
      },
      "execution_count": null,
      "outputs": [
        {
          "output_type": "stream",
          "name": "stderr",
          "text": [
            "/usr/local/lib/python3.10/dist-packages/torchvision/models/_utils.py:208: UserWarning: The parameter 'pretrained' is deprecated since 0.13 and may be removed in the future, please use 'weights' instead.\n",
            "  warnings.warn(\n",
            "/usr/local/lib/python3.10/dist-packages/torchvision/models/_utils.py:223: UserWarning: Arguments other than a weight enum or `None` for 'weights' are deprecated since 0.13 and may be removed in the future. The current behavior is equivalent to passing `weights=MobileNet_V3_Small_Weights.IMAGENET1K_V1`. You can also use `weights=MobileNet_V3_Small_Weights.DEFAULT` to get the most up-to-date weights.\n",
            "  warnings.warn(msg)\n",
            "Downloading: \"https://download.pytorch.org/models/mobilenet_v3_small-047dcff4.pth\" to /root/.cache/torch/hub/checkpoints/mobilenet_v3_small-047dcff4.pth\n",
            "100%|██████████| 9.83M/9.83M [00:00<00:00, 63.5MB/s]\n"
          ]
        }
      ]
    },
    {
      "cell_type": "markdown",
      "source": [
        "## 5. Model Training"
      ],
      "metadata": {
        "id": "3AfeAWrIjVXe"
      }
    },
    {
      "cell_type": "code",
      "source": [
        "train_loss_per_epoch = []\n",
        "val_loss_per_epoch = []\n",
        "\n",
        "for epoch in range(num_epochs):\n",
        "\n",
        "    model.train()\n",
        "\n",
        "    running_loss = 0.0\n",
        "\n",
        "    for inputs, labels in train_loader:\n",
        "\n",
        "        optimizer.zero_grad()\n",
        "        outputs = model(inputs)\n",
        "        loss = criterion(outputs, labels)\n",
        "        loss.backward()\n",
        "        optimizer.step()\n",
        "\n",
        "        running_loss += loss.item()\n",
        "\n",
        "    model.eval()\n",
        "    correct = 0\n",
        "    total = 0\n",
        "\n",
        "    with torch.no_grad():\n",
        "        val_running_loss = 0.0\n",
        "        for inputs, labels in val_loader:\n",
        "\n",
        "            outputs = model(inputs)\n",
        "            _, predicted = torch.max(outputs, 1)\n",
        "            correct += (predicted == labels).sum().item()\n",
        "            total += labels.size(0)\n",
        "\n",
        "            val_running_loss += loss.item()\n",
        "\n",
        "    val_accuracy = correct / total\n",
        "\n",
        "    train_loss = running_loss/len(train_loader)\n",
        "    val_loss = val_running_loss/len(val_loader)\n",
        "\n",
        "    train_loss_per_epoch.append(train_loss)\n",
        "    val_loss_per_epoch.append(val_loss)\n",
        "\n",
        "    print(f\"Epoch {epoch+1} = train_loss: {train_loss:.4f} | val_loss: {val_loss:.4f} | val_acc: {val_accuracy}\")\n",
        "\n",
        "\n",
        "torch.save(model.state_dict(), \"mobilenetv3_small_lemon.pth\")"
      ],
      "metadata": {
        "colab": {
          "base_uri": "https://localhost:8080/"
        },
        "id": "lMbajOkXjXPG",
        "outputId": "014b73c9-74b2-4ef9-a53a-72a25e8b6128"
      },
      "execution_count": null,
      "outputs": [
        {
          "output_type": "stream",
          "name": "stdout",
          "text": [
            "Epoch 1 = train_loss: 1.1456 | val_loss: 1.2765 | val_acc: 0.8125\n",
            "Epoch 2 = train_loss: 0.6704 | val_loss: 0.4829 | val_acc: 0.265625\n",
            "Epoch 3 = train_loss: 0.5515 | val_loss: 0.4678 | val_acc: 0.8125\n",
            "Epoch 4 = train_loss: 0.5163 | val_loss: 0.4773 | val_acc: 0.8125\n",
            "Epoch 5 = train_loss: 0.5518 | val_loss: 0.5779 | val_acc: 0.8125\n",
            "Epoch 6 = train_loss: 0.5401 | val_loss: 0.5724 | val_acc: 0.8125\n",
            "Epoch 7 = train_loss: 0.5469 | val_loss: 0.5081 | val_acc: 0.8125\n",
            "Epoch 8 = train_loss: 0.5561 | val_loss: 0.7504 | val_acc: 0.8125\n",
            "Epoch 9 = train_loss: 0.5466 | val_loss: 0.5597 | val_acc: 0.734375\n",
            "Epoch 10 = train_loss: 0.5201 | val_loss: 0.3464 | val_acc: 0.8125\n"
          ]
        }
      ]
    },
    {
      "cell_type": "code",
      "source": [
        "epochs = [x+1 for x in range(num_epochs)]\n",
        "\n",
        "plt.plot(epochs, train_loss_per_epoch, color='r', label='train')\n",
        "plt.plot(epochs, val_loss_per_epoch, color='b', label='val')\n",
        "\n",
        "plt.xlabel(\"Epochs\")\n",
        "plt.ylabel(\"Loss\")\n",
        "\n",
        "plt.legend()\n",
        "plt.show()"
      ],
      "metadata": {
        "id": "LeEV5eept-oD",
        "colab": {
          "base_uri": "https://localhost:8080/",
          "height": 449
        },
        "outputId": "afb694ad-d46e-479c-dbcf-ed7d2fe464aa"
      },
      "execution_count": null,
      "outputs": [
        {
          "output_type": "display_data",
          "data": {
            "text/plain": [
              "<Figure size 640x480 with 1 Axes>"
            ],
            "image/png": "[encoded data removed]"
          },
          "metadata": {}
        }
      ]
    },
    {
      "cell_type": "markdown",
      "source": [
        "## 6. Model Testing"
      ],
      "metadata": {
        "id": "wc2NQT8QlgFE"
      }
    },
    {
      "cell_type": "code",
      "source": [
        "model = mobilenet_v3_small(pre_trained=False)\n",
        "model.classifier[-1] = nn.Linear(model.classifier[-1].in_features, num_classes)\n",
        "model.load_state_dict(torch.load(\"mobilenetv3_small_lemon.pth\"))\n",
        "model.eval()\n",
        "\n",
        "correct = 0\n",
        "total = 0\n",
        "\n",
        "with torch.no_grad():\n",
        "    for inputs, labels in test_loader:\n",
        "        outputs = model(inputs)\n",
        "        _, predicted = torch.max(outputs, 1)\n",
        "        correct += (predicted == labels).sum().item()\n",
        "        total += labels.size(0)\n",
        "\n",
        "accuracy = correct / total\n",
        "print(f\"Test Accuracy: {accuracy:.4f}\")"
      ],
      "metadata": {
        "id": "D3SSvmKnlfwF",
        "colab": {
          "base_uri": "https://localhost:8080/"
        },
        "outputId": "36350dab-83a0-4d97-d6b7-c2129c5ccf21"
      },
      "execution_count": null,
      "outputs": [
        {
          "output_type": "stream",
          "name": "stdout",
          "text": [
            "Test Accuracy: 0.8333\n"
          ]
        }
      ]
    },
    {
      "cell_type": "markdown",
      "source": [
        "## 7. Exporting to .pkl"
      ],
      "metadata": {
        "id": "nSBo9F6u7MWW"
      }
    },
    {
      "cell_type": "code",
      "source": [
        "model = torch.load(\"mobilenetv3_small_lemon.pth\")\n",
        "\n",
        "model_filename = \"mobilenetv3_small_lemon.pkl\"\n",
        "pickle.dump(model, open(model_filename, 'wb'))"
      ],
      "metadata": {
        "id": "QKwOVTVO5-dS"
      },
      "execution_count": null,
      "outputs": []
    }
  ]
}